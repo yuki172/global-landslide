{
 "cells": [
  {
   "cell_type": "code",
   "execution_count": 1,
   "id": "10e09dc0-c51d-4fde-adce-d64f6c54f3bb",
   "metadata": {},
   "outputs": [],
   "source": [
    "from display_utils import getHeader"
   ]
  },
  {
   "cell_type": "markdown",
   "id": "b0d11d55-3497-47b8-8348-1f7189a3bf49",
   "metadata": {},
   "source": [
    "<div style=\"font-size: 30px\"><b>Data Sources</b></div>"
   ]
  },
  {
   "cell_type": "markdown",
   "id": "b89ca1f1-51b0-4912-97a3-8ec2d69ba80a",
   "metadata": {},
   "source": [
    "<b>1.</b> This project uses the Global Landslide Catalog dataset exported from the NASA's Open Data Portal https://data.nasa.gov/Earth-Science/Global-Landslide-Catalog-Export/dd9e-wu2v/about_data\n",
    "\n",
    "As required by the host page, we cite the following two sources\n",
    "\n",
    "<i>Kirschbaum, D. B., Adler, R., Hong, Y., Hill, S., & Lerner-Lam, A. (2010). A global landslide catalog for hazard applications: method, results, and limitations. Natural Hazards, 52(3), 561–575. doi:10.1007/s11069-009-9401-4. [1]</i>\n",
    "\n",
    "<i>Kirschbaum, D.B., T. Stanley, Y. Zhou (In press, 2015). Spatial and Temporal Analysis of a Global Landslide Catalog. Geomorphology. doi:10.1016/j.geomorph.2015.03.016. [2]</i>\n",
    "\n",
    "<b>2.</b> We will also use the GDP by country dataset obtained from https://github.com/datasets/gdp/blob/master/data/gdp.csv.\n"
   ]
  },
  {
   "cell_type": "markdown",
   "id": "386dae25-65cc-45ef-ad76-7faa188302a9",
   "metadata": {},
   "source": [
    "<div style=\"font-size: 30px\"><b>Project Objectives</b></div>"
   ]
  },
  {
   "cell_type": "markdown",
   "id": "a3ae2ebf-2a6f-42b8-a9a5-f38489846a6f",
   "metadata": {},
   "source": [
    "<div style=\"font-size: 20px\">We would like to understand the relationship between <b>fatality_rate</b> and other variables from the datesets such <b>event_date</b> and country information for landslide events. We will apply explorative data analysis and build regression models toward this goal.</div> "
   ]
  },
  {
   "cell_type": "markdown",
   "id": "f9e214c6-debf-49e8-86dc-e715571119d1",
   "metadata": {},
   "source": [
    "<div style=\"border: 1px solid lightgrey; width: 80%\"></div>"
   ]
  },
  {
   "cell_type": "markdown",
   "id": "25e5cfd3-7324-4bd8-b8e7-4b28aead7ae0",
   "metadata": {},
   "source": [
    "<div style=\"font-size: 30px\"><b>Explorative Data Analysis</b></div>"
   ]
  },
  {
   "cell_type": "code",
   "execution_count": 5,
   "id": "bf0d2e89-2257-4f2f-bb65-a0218a01b142",
   "metadata": {},
   "outputs": [],
   "source": [
    "import pandas as pd\n",
    "import numpy as np\n",
    "import seaborn as sns\n",
    "import matplotlib.pyplot as plt\n",
    "%matplotlib inline"
   ]
  },
  {
   "cell_type": "code",
   "execution_count": 6,
   "id": "c2e637a3-b2ff-4559-af5a-91213733cb65",
   "metadata": {},
   "outputs": [],
   "source": [
    "landslide_data = pd.read_csv('landslide_data.csv')"
   ]
  },
  {
   "cell_type": "code",
   "execution_count": 10,
   "id": "9edccea8-3e12-4c13-b79f-9e77c7a8d070",
   "metadata": {},
   "outputs": [
    {
     "data": {
      "text/plain": [
       "(11033, 32)"
      ]
     },
     "execution_count": 10,
     "metadata": {},
     "output_type": "execute_result"
    }
   ],
   "source": [
    "landslide_data.shape"
   ]
  },
  {
   "cell_type": "markdown",
   "id": "456b5d9c-0937-4a49-aa5c-4263d5f78987",
   "metadata": {},
   "source": [
    "<div style=\"font-size: 15px\"><b>Convert event_date to pd.datetime</b></div>"
   ]
  },
  {
   "cell_type": "code",
   "execution_count": 9,
   "id": "5a41c909-abe2-48fa-8210-f858b99a0679",
   "metadata": {},
   "outputs": [],
   "source": [
    "landslide_data['timestamp'] = pd.to_datetime(landslide_data['event_date'], format='%m/%d/%Y %H:%M:%S %p')"
   ]
  },
  {
   "cell_type": "markdown",
   "id": "2823eb89-ee72-4c57-b209-a6eef2bc0794",
   "metadata": {},
   "source": [
    "This contains the event time. We will drop other columns that contain this information."
   ]
  },
  {
   "cell_type": "code",
   "execution_count": 13,
   "id": "10e2c46e-9334-4517-b111-4671f9089bf2",
   "metadata": {},
   "outputs": [],
   "source": [
    "landslide_data = landslide_data.drop(['event_date', 'event_time'], axis=1)"
   ]
  },
  {
   "cell_type": "code",
   "execution_count": 14,
   "id": "80e9bb0b-0a0a-4e3f-b24b-68a82a2fb683",
   "metadata": {},
   "outputs": [
    {
     "data": {
      "text/plain": [
       "(11033, 30)"
      ]
     },
     "execution_count": 14,
     "metadata": {},
     "output_type": "execute_result"
    }
   ],
   "source": [
    "landslide_data.shape"
   ]
  },
  {
   "cell_type": "code",
   "execution_count": null,
   "id": "5a98ac8c-3438-4f3c-87b8-c6037857ede6",
   "metadata": {},
   "outputs": [],
   "source": []
  }
 ],
 "metadata": {
  "kernelspec": {
   "display_name": "Python 3 (ipykernel)",
   "language": "python",
   "name": "python3"
  },
  "language_info": {
   "codemirror_mode": {
    "name": "ipython",
    "version": 3
   },
   "file_extension": ".py",
   "mimetype": "text/x-python",
   "name": "python",
   "nbconvert_exporter": "python",
   "pygments_lexer": "ipython3",
   "version": "3.11.9"
  }
 },
 "nbformat": 4,
 "nbformat_minor": 5
}
