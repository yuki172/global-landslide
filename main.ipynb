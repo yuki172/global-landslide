{
 "cells": [
  {
   "cell_type": "code",
   "execution_count": 169,
   "id": "10e09dc0-c51d-4fde-adce-d64f6c54f3bb",
   "metadata": {},
   "outputs": [],
   "source": [
    "from display_utils import getHeader"
   ]
  },
  {
   "cell_type": "markdown",
   "id": "b0d11d55-3497-47b8-8348-1f7189a3bf49",
   "metadata": {},
   "source": [
    "<div style=\"font-size: 30px\"><b>Data Sources</b></div>"
   ]
  },
  {
   "cell_type": "markdown",
   "id": "b89ca1f1-51b0-4912-97a3-8ec2d69ba80a",
   "metadata": {},
   "source": [
    "<b>1.</b> This project uses the Global Landslide Catalog dataset exported from the NASA's Open Data Portal https://data.nasa.gov/Earth-Science/Global-Landslide-Catalog-Export/dd9e-wu2v/about_data\n",
    "\n",
    "As required by the host page, we cite the following two sources\n",
    "\n",
    "<i>Kirschbaum, D. B., Adler, R., Hong, Y., Hill, S., & Lerner-Lam, A. (2010). A global landslide catalog for hazard applications: method, results, and limitations. Natural Hazards, 52(3), 561–575. doi:10.1007/s11069-009-9401-4. [1]</i>\n",
    "\n",
    "<i>Kirschbaum, D.B., T. Stanley, Y. Zhou (In press, 2015). Spatial and Temporal Analysis of a Global Landslide Catalog. Geomorphology. doi:10.1016/j.geomorph.2015.03.016. [2]</i>\n",
    "\n",
    "<b>2.</b> We will also use the GDP by country dataset obtained from https://github.com/datasets/gdp/blob/master/data/gdp.csv.\n"
   ]
  },
  {
   "cell_type": "markdown",
   "id": "386dae25-65cc-45ef-ad76-7faa188302a9",
   "metadata": {},
   "source": [
    "<div style=\"font-size: 30px\"><b>Project Objectives</b></div>"
   ]
  },
  {
   "cell_type": "markdown",
   "id": "a3ae2ebf-2a6f-42b8-a9a5-f38489846a6f",
   "metadata": {},
   "source": [
    "<div style=\"font-size: 20px\">We would like to understand the relationship between <b>casualties</b> (as defined below) and other variables from the datesets such as event time and country GDP in landslide events. We will use explorative data analysis and build interpretable regression models toward this goal.</div> "
   ]
  },
  {
   "cell_type": "markdown",
   "id": "f9e214c6-debf-49e8-86dc-e715571119d1",
   "metadata": {},
   "source": [
    "<div style=\"border: 1px solid lightgrey; width: 80%\"></div>"
   ]
  },
  {
   "cell_type": "markdown",
   "id": "25e5cfd3-7324-4bd8-b8e7-4b28aead7ae0",
   "metadata": {},
   "source": [
    "<div style=\"font-size: 30px\"><b>Explorative Data Analysis</b></div>"
   ]
  },
  {
   "cell_type": "code",
   "execution_count": 170,
   "id": "bf0d2e89-2257-4f2f-bb65-a0218a01b142",
   "metadata": {},
   "outputs": [],
   "source": [
    "import pandas as pd\n",
    "import numpy as np\n",
    "import seaborn as sns\n",
    "import matplotlib.pyplot as plt\n",
    "%matplotlib inline\n",
    "import seaborn as sns"
   ]
  },
  {
   "cell_type": "code",
   "execution_count": 171,
   "id": "c2e637a3-b2ff-4559-af5a-91213733cb65",
   "metadata": {},
   "outputs": [],
   "source": [
    "landslide_data = pd.read_csv('landslide_data.csv')"
   ]
  },
  {
   "cell_type": "code",
   "execution_count": 172,
   "id": "9edccea8-3e12-4c13-b79f-9e77c7a8d070",
   "metadata": {},
   "outputs": [
    {
     "data": {
      "text/plain": [
       "(11033, 31)"
      ]
     },
     "execution_count": 172,
     "metadata": {},
     "output_type": "execute_result"
    }
   ],
   "source": [
    "landslide_data.shape"
   ]
  },
  {
   "cell_type": "markdown",
   "id": "fae3bb16-dffb-42dc-82c4-878f70ba5877",
   "metadata": {},
   "source": [
    "<div style=\"font-size: 25px\"><b>Data Cleaning and Formatting</b></div>"
   ]
  },
  {
   "cell_type": "markdown",
   "id": "40836c04-16fc-4b5f-a97d-a56ff973283f",
   "metadata": {},
   "source": [
    "<div style=\"font-size: 20px\"><b>Global Landslide Dataset</b></div>\n",
    "We will start with the global landslide dataset"
   ]
  },
  {
   "cell_type": "markdown",
   "id": "71ce3197-d25c-4bb7-90e6-195b66033c17",
   "metadata": {},
   "source": [
    "<div style=\"border: 1px solid lightgrey; width: 80%\"></div>"
   ]
  },
  {
   "cell_type": "markdown",
   "id": "456b5d9c-0937-4a49-aa5c-4263d5f78987",
   "metadata": {},
   "source": [
    "<div style=\"font-size: 15px\"><b>Convert event_date to pd.datetime</b></div>"
   ]
  },
  {
   "cell_type": "code",
   "execution_count": 173,
   "id": "5a41c909-abe2-48fa-8210-f858b99a0679",
   "metadata": {},
   "outputs": [],
   "source": [
    "landslide_data['timestamp'] = pd.to_datetime(landslide_data['event_date'], format='%m/%d/%Y %H:%M:%S %p')"
   ]
  },
  {
   "cell_type": "markdown",
   "id": "2823eb89-ee72-4c57-b209-a6eef2bc0794",
   "metadata": {},
   "source": [
    "This contains the event time. We will drop other columns that contain this information."
   ]
  },
  {
   "cell_type": "code",
   "execution_count": 174,
   "id": "10e2c46e-9334-4517-b111-4671f9089bf2",
   "metadata": {},
   "outputs": [],
   "source": [
    "landslide_data = landslide_data.drop(['event_date', 'event_time'], axis=1)"
   ]
  },
  {
   "cell_type": "code",
   "execution_count": 175,
   "id": "80e9bb0b-0a0a-4e3f-b24b-68a82a2fb683",
   "metadata": {},
   "outputs": [
    {
     "data": {
      "text/plain": [
       "(11033, 30)"
      ]
     },
     "execution_count": 175,
     "metadata": {},
     "output_type": "execute_result"
    }
   ],
   "source": [
    "landslide_data.shape"
   ]
  },
  {
   "cell_type": "markdown",
   "id": "558a052d-44b9-42d8-98d8-428981c14bf7",
   "metadata": {},
   "source": [
    "<div style=\"font-size: 15px\"><b>Add event_source column</b></div>"
   ]
  },
  {
   "cell_type": "code",
   "execution_count": 176,
   "id": "a36de368-f36e-4ce5-8627-08b285a1cb14",
   "metadata": {},
   "outputs": [
    {
     "data": {
      "text/plain": [
       "3918"
      ]
     },
     "execution_count": 176,
     "metadata": {},
     "output_type": "execute_result"
    }
   ],
   "source": [
    "landslide_data['source_name'].nunique()"
   ]
  },
  {
   "cell_type": "code",
   "execution_count": 177,
   "id": "67522c39-5157-4168-b900-2a6c918601bf",
   "metadata": {},
   "outputs": [
    {
     "data": {
      "text/html": [
       "<div>\n",
       "<style scoped>\n",
       "    .dataframe tbody tr th:only-of-type {\n",
       "        vertical-align: middle;\n",
       "    }\n",
       "\n",
       "    .dataframe tbody tr th {\n",
       "        vertical-align: top;\n",
       "    }\n",
       "\n",
       "    .dataframe thead th {\n",
       "        text-align: right;\n",
       "    }\n",
       "</style>\n",
       "<table border=\"1\" class=\"dataframe\">\n",
       "  <thead>\n",
       "    <tr style=\"text-align: right;\">\n",
       "      <th></th>\n",
       "      <th>source_name</th>\n",
       "      <th>count</th>\n",
       "    </tr>\n",
       "  </thead>\n",
       "  <tbody>\n",
       "    <tr>\n",
       "      <th>0</th>\n",
       "      <td>Oregon DOT</td>\n",
       "      <td>768</td>\n",
       "    </tr>\n",
       "    <tr>\n",
       "      <th>1</th>\n",
       "      <td>maps.google.com</td>\n",
       "      <td>104</td>\n",
       "    </tr>\n",
       "    <tr>\n",
       "      <th>2</th>\n",
       "      <td>thehimalayantimes</td>\n",
       "      <td>75</td>\n",
       "    </tr>\n",
       "    <tr>\n",
       "      <th>3</th>\n",
       "      <td>news.xinhuanet</td>\n",
       "      <td>74</td>\n",
       "    </tr>\n",
       "    <tr>\n",
       "      <th>4</th>\n",
       "      <td>newsinfo.inquirer</td>\n",
       "      <td>71</td>\n",
       "    </tr>\n",
       "    <tr>\n",
       "      <th>5</th>\n",
       "      <td>thejakartapost</td>\n",
       "      <td>59</td>\n",
       "    </tr>\n",
       "    <tr>\n",
       "      <th>6</th>\n",
       "      <td>ibnlive.in</td>\n",
       "      <td>57</td>\n",
       "    </tr>\n",
       "    <tr>\n",
       "      <th>7</th>\n",
       "      <td>Times of India</td>\n",
       "      <td>47</td>\n",
       "    </tr>\n",
       "    <tr>\n",
       "      <th>8</th>\n",
       "      <td>The Jakarta Post</td>\n",
       "      <td>46</td>\n",
       "    </tr>\n",
       "    <tr>\n",
       "      <th>9</th>\n",
       "      <td>The Himalayan Times</td>\n",
       "      <td>43</td>\n",
       "    </tr>\n",
       "  </tbody>\n",
       "</table>\n",
       "</div>"
      ],
      "text/plain": [
       "           source_name  count\n",
       "0           Oregon DOT    768\n",
       "1      maps.google.com    104\n",
       "2    thehimalayantimes     75\n",
       "3       news.xinhuanet     74\n",
       "4    newsinfo.inquirer     71\n",
       "5       thejakartapost     59\n",
       "6           ibnlive.in     57\n",
       "7       Times of India     47\n",
       "8     The Jakarta Post     46\n",
       "9  The Himalayan Times     43"
      ]
     },
     "execution_count": 177,
     "metadata": {},
     "output_type": "execute_result"
    }
   ],
   "source": [
    "source_name_count_df = landslide_data.groupby(['source_name']).size().sort_values(ascending=False).reset_index(name=\"count\")\n",
    "source_name_count_df.head(10)"
   ]
  },
  {
   "cell_type": "markdown",
   "id": "4d175b8d-62de-4703-ae35-3e715c9a3000",
   "metadata": {},
   "source": [
    "We will take only the 15 source_name's and create a new group 'others' for the rest"
   ]
  },
  {
   "cell_type": "code",
   "execution_count": 178,
   "id": "13d131f4-cc8c-4a9a-89fe-ecb3c20e1051",
   "metadata": {},
   "outputs": [],
   "source": [
    "major_sources = set(source_name_count_df['source_name'].iloc[:15])"
   ]
  },
  {
   "cell_type": "code",
   "execution_count": 179,
   "id": "d5dde37f-3f38-43a5-bcec-e564a796a260",
   "metadata": {},
   "outputs": [],
   "source": [
    "def getEventSource(row):\n",
    "    source = 'Others'\n",
    "    if row['source_name'] in major_sources:\n",
    "        source = row['source_name']\n",
    "    row['event_source'] = source\n",
    "    return row\n",
    "landslide_data = landslide_data.apply(getEventSource, axis=1)"
   ]
  },
  {
   "cell_type": "code",
   "execution_count": 180,
   "id": "abec1062-49e8-4634-baf7-55022472b61c",
   "metadata": {},
   "outputs": [],
   "source": [
    "landslide_data['event_source'] = landslide_data['event_source'].astype('category')"
   ]
  },
  {
   "cell_type": "code",
   "execution_count": 181,
   "id": "1eca1bfa-a9e4-4d7c-bde8-3551294c025b",
   "metadata": {},
   "outputs": [
    {
     "data": {
      "text/html": [
       "<div>\n",
       "<style scoped>\n",
       "    .dataframe tbody tr th:only-of-type {\n",
       "        vertical-align: middle;\n",
       "    }\n",
       "\n",
       "    .dataframe tbody tr th {\n",
       "        vertical-align: top;\n",
       "    }\n",
       "\n",
       "    .dataframe thead th {\n",
       "        text-align: right;\n",
       "    }\n",
       "</style>\n",
       "<table border=\"1\" class=\"dataframe\">\n",
       "  <thead>\n",
       "    <tr style=\"text-align: right;\">\n",
       "      <th></th>\n",
       "      <th>source_name</th>\n",
       "      <th>source_link</th>\n",
       "      <th>event_id</th>\n",
       "      <th>event_title</th>\n",
       "      <th>event_description</th>\n",
       "      <th>location_description</th>\n",
       "      <th>location_accuracy</th>\n",
       "      <th>landslide_category</th>\n",
       "      <th>landslide_trigger</th>\n",
       "      <th>landslide_size</th>\n",
       "      <th>...</th>\n",
       "      <th>admin_division_population</th>\n",
       "      <th>gazeteer_closest_point</th>\n",
       "      <th>gazeteer_distance</th>\n",
       "      <th>submitted_date</th>\n",
       "      <th>created_date</th>\n",
       "      <th>last_edited_date</th>\n",
       "      <th>longitude</th>\n",
       "      <th>latitude</th>\n",
       "      <th>timestamp</th>\n",
       "      <th>event_source</th>\n",
       "    </tr>\n",
       "  </thead>\n",
       "  <tbody>\n",
       "    <tr>\n",
       "      <th>495</th>\n",
       "      <td>maps.google.com</td>\n",
       "      <td>http://maps.google.com.br/maps/ms?source=embed...</td>\n",
       "      <td>1680</td>\n",
       "      <td>Rua Ceará, bairro Quitandinha</td>\n",
       "      <td>Rua Ceará - bairro Quitandinha  Deslizamento c...</td>\n",
       "      <td>Rua Ceará, bairro Quitandinha</td>\n",
       "      <td>exact</td>\n",
       "      <td>landslide</td>\n",
       "      <td>downpour</td>\n",
       "      <td>medium</td>\n",
       "      <td>...</td>\n",
       "      <td>272691.0</td>\n",
       "      <td>Petrópolis</td>\n",
       "      <td>4.82307</td>\n",
       "      <td>04/01/2014 12:00:00 AM</td>\n",
       "      <td>11/20/2017 03:17:00 PM</td>\n",
       "      <td>02/15/2018 03:51:00 PM</td>\n",
       "      <td>-43.2212</td>\n",
       "      <td>-22.5232</td>\n",
       "      <td>2010-04-06 12:00:00</td>\n",
       "      <td>maps.google.com</td>\n",
       "    </tr>\n",
       "    <tr>\n",
       "      <th>517</th>\n",
       "      <td>maps.google.com</td>\n",
       "      <td>http://maps.google.com.br/maps/ms?source=embed...</td>\n",
       "      <td>1633</td>\n",
       "      <td>Morro da Mangueira</td>\n",
       "      <td>O mapa da devastação no Rio.  Queda de barreir...</td>\n",
       "      <td>Morro da Mangueira</td>\n",
       "      <td>1km</td>\n",
       "      <td>mudslide</td>\n",
       "      <td>downpour</td>\n",
       "      <td>medium</td>\n",
       "      <td>...</td>\n",
       "      <td>6023699.0</td>\n",
       "      <td>Rio de Janeiro</td>\n",
       "      <td>3.27331</td>\n",
       "      <td>04/01/2014 12:00:00 AM</td>\n",
       "      <td>11/20/2017 03:17:00 PM</td>\n",
       "      <td>02/15/2018 03:51:00 PM</td>\n",
       "      <td>-43.2394</td>\n",
       "      <td>-22.9033</td>\n",
       "      <td>2010-04-06 12:00:00</td>\n",
       "      <td>maps.google.com</td>\n",
       "    </tr>\n",
       "  </tbody>\n",
       "</table>\n",
       "<p>2 rows × 31 columns</p>\n",
       "</div>"
      ],
      "text/plain": [
       "         source_name                                        source_link  \\\n",
       "495  maps.google.com  http://maps.google.com.br/maps/ms?source=embed...   \n",
       "517  maps.google.com  http://maps.google.com.br/maps/ms?source=embed...   \n",
       "\n",
       "     event_id                    event_title  \\\n",
       "495      1680  Rua Ceará, bairro Quitandinha   \n",
       "517      1633             Morro da Mangueira   \n",
       "\n",
       "                                     event_description  \\\n",
       "495  Rua Ceará - bairro Quitandinha  Deslizamento c...   \n",
       "517  O mapa da devastação no Rio.  Queda de barreir...   \n",
       "\n",
       "              location_description location_accuracy landslide_category  \\\n",
       "495  Rua Ceará, bairro Quitandinha             exact          landslide   \n",
       "517             Morro da Mangueira               1km           mudslide   \n",
       "\n",
       "    landslide_trigger landslide_size  ... admin_division_population  \\\n",
       "495          downpour         medium  ...                  272691.0   \n",
       "517          downpour         medium  ...                 6023699.0   \n",
       "\n",
       "     gazeteer_closest_point  gazeteer_distance          submitted_date  \\\n",
       "495              Petrópolis            4.82307  04/01/2014 12:00:00 AM   \n",
       "517          Rio de Janeiro            3.27331  04/01/2014 12:00:00 AM   \n",
       "\n",
       "               created_date        last_edited_date longitude  latitude  \\\n",
       "495  11/20/2017 03:17:00 PM  02/15/2018 03:51:00 PM  -43.2212  -22.5232   \n",
       "517  11/20/2017 03:17:00 PM  02/15/2018 03:51:00 PM  -43.2394  -22.9033   \n",
       "\n",
       "              timestamp     event_source  \n",
       "495 2010-04-06 12:00:00  maps.google.com  \n",
       "517 2010-04-06 12:00:00  maps.google.com  \n",
       "\n",
       "[2 rows x 31 columns]"
      ]
     },
     "execution_count": 181,
     "metadata": {},
     "output_type": "execute_result"
    }
   ],
   "source": [
    "landslide_data[landslide_data['source_name'] == 'maps.google.com'].head(2)"
   ]
  },
  {
   "cell_type": "markdown",
   "id": "ea0230dd-45d8-41ed-b7e4-c4a05e82a1a2",
   "metadata": {},
   "source": [
    "We will drop source_name and source_link. The information from these two columns are represented in event_source."
   ]
  },
  {
   "cell_type": "code",
   "execution_count": 182,
   "id": "0ba4d052-f600-40d3-9b62-967c8f4b49fc",
   "metadata": {},
   "outputs": [],
   "source": [
    "landslide_data = landslide_data.drop(['source_name', 'source_link'], axis=1)\n"
   ]
  },
  {
   "cell_type": "code",
   "execution_count": 183,
   "id": "a8e8d49d-1d0a-46b2-abf5-d6b06923b83a",
   "metadata": {},
   "outputs": [
    {
     "data": {
      "text/plain": [
       "(11033, 29)"
      ]
     },
     "execution_count": 183,
     "metadata": {},
     "output_type": "execute_result"
    }
   ],
   "source": [
    "landslide_data.shape"
   ]
  },
  {
   "cell_type": "markdown",
   "id": "74f949ef-5748-4df8-995f-9c832adcb387",
   "metadata": {},
   "source": [
    "<div style=\"font-size: 15px\"><b>Landslide description with categorical variables</b> <span>(contain missing values. We will deal with them separately, see details below)</span></div>"
   ]
  },
  {
   "cell_type": "markdown",
   "id": "b5399070-bbba-4652-8d1e-5d6c61c2adc4",
   "metadata": {},
   "source": [
    "We will convert a few variables that classify the landslide events in groups into categorical variables"
   ]
  },
  {
   "cell_type": "code",
   "execution_count": 184,
   "id": "e5215004-b3d1-40ba-900c-61d857145161",
   "metadata": {},
   "outputs": [],
   "source": [
    "landslide_info_categoricals = ['landslide_category', 'landslide_trigger', 'landslide_size', 'landslide_setting']"
   ]
  },
  {
   "cell_type": "markdown",
   "id": "6c9c691d-8356-46a7-9ed4-92401807f27b",
   "metadata": {},
   "source": [
    "<b>Missing values</b>\n",
    "<div>We will delete rows with missing values for landslide_category and landslide_size. For landslide_trigger, we will create a new group 'unknown' for the missing values. For landslide_setting, since there is already a class \"unknown\", we assign this value to the rows with missing landslide_setting.</div>"
   ]
  },
  {
   "cell_type": "code",
   "execution_count": 185,
   "id": "6ab3dde5-0879-4eb7-ad69-9eab655bd71c",
   "metadata": {},
   "outputs": [
    {
     "data": {
      "text/plain": [
       "landslide_category     1\n",
       "landslide_trigger     23\n",
       "landslide_size         9\n",
       "landslide_setting     69\n",
       "dtype: int64"
      ]
     },
     "execution_count": 185,
     "metadata": {},
     "output_type": "execute_result"
    }
   ],
   "source": [
    "landslide_data[['landslide_category', 'landslide_trigger', 'landslide_size', 'landslide_setting']].isna().sum()"
   ]
  },
  {
   "cell_type": "code",
   "execution_count": 186,
   "id": "f1293d8e-1364-4892-90d6-e1a24490b95a",
   "metadata": {},
   "outputs": [],
   "source": [
    "landslide_data = landslide_data.dropna(subset = ['landslide_category'])"
   ]
  },
  {
   "cell_type": "code",
   "execution_count": 187,
   "id": "f9c0ccab-404d-4669-809a-cd114ea047a1",
   "metadata": {},
   "outputs": [],
   "source": [
    "landslide_data = landslide_data.dropna(subset = ['landslide_size'])"
   ]
  },
  {
   "cell_type": "code",
   "execution_count": 188,
   "id": "11cb5f5c-db22-4b2b-88d0-da311f0a887e",
   "metadata": {},
   "outputs": [],
   "source": [
    "landslide_data.loc[landslide_data['landslide_trigger'].isna(), 'landslide_trigger'] = 'unknown'"
   ]
  },
  {
   "cell_type": "code",
   "execution_count": 189,
   "id": "fbc35753-82b2-4010-a8b1-6ccc2fce797d",
   "metadata": {},
   "outputs": [],
   "source": [
    "landslide_data.loc[landslide_data['landslide_setting'].isna(), 'landslide_setting'] = 'unknown'"
   ]
  },
  {
   "cell_type": "code",
   "execution_count": 190,
   "id": "ddf929cf-565d-41ab-9b3f-ae213a7e57e8",
   "metadata": {},
   "outputs": [
    {
     "data": {
      "text/plain": [
       "landslide_category    0\n",
       "landslide_trigger     0\n",
       "landslide_size        0\n",
       "landslide_setting     0\n",
       "dtype: int64"
      ]
     },
     "execution_count": 190,
     "metadata": {},
     "output_type": "execute_result"
    }
   ],
   "source": [
    "landslide_data[['landslide_category', 'landslide_trigger', 'landslide_size', 'landslide_setting']].isna().sum()"
   ]
  },
  {
   "cell_type": "code",
   "execution_count": 191,
   "id": "bf5400a8-ab85-45ea-b148-3dabe55b6ee4",
   "metadata": {},
   "outputs": [],
   "source": [
    "for column in landslide_info_categoricals:\n",
    "    landslide_data[column] = landslide_data[column].astype('category')"
   ]
  },
  {
   "cell_type": "markdown",
   "id": "9258dada-db6d-40bc-a047-bd684ba083ef",
   "metadata": {},
   "source": [
    "<div style=\"font-size: 15px\"><b>fatality_count</b></div>"
   ]
  },
  {
   "cell_type": "code",
   "execution_count": 192,
   "id": "21312939-7f9d-4afa-9da5-8ce6e36bd0fc",
   "metadata": {},
   "outputs": [
    {
     "data": {
      "text/plain": [
       "fatality_count    1383\n",
       "dtype: int64"
      ]
     },
     "execution_count": 192,
     "metadata": {},
     "output_type": "execute_result"
    }
   ],
   "source": [
    "landslide_data[['fatality_count']].isna().sum()"
   ]
  },
  {
   "cell_type": "code",
   "execution_count": 193,
   "id": "b4712b20-9eb3-46f7-a387-b12b2a451323",
   "metadata": {},
   "outputs": [],
   "source": [
    "landslide_data = landslide_data.dropna(subset = ['fatality_count'])"
   ]
  },
  {
   "cell_type": "markdown",
   "id": "5d58f9a4-86a0-4ae4-8f02-3e7453afe63b",
   "metadata": {},
   "source": [
    "landslide_data['fatality_count'].describe()"
   ]
  },
  {
   "cell_type": "code",
   "execution_count": 194,
   "id": "5702c5bb-952e-4a6d-84cb-970e137399db",
   "metadata": {},
   "outputs": [
    {
     "data": {
      "text/plain": [
       "<Axes: xlabel='fatality_count', ylabel='Density'>"
      ]
     },
     "execution_count": 194,
     "metadata": {},
     "output_type": "execute_result"
    },
    {
     "data": {
      "image/png": "[encoded data removed]",
      "text/plain": [
       "<Figure size 640x480 with 1 Axes>"
      ]
     },
     "metadata": {},
     "output_type": "display_data"
    }
   ],
   "source": [
    "fig, ax = plt.subplots()\n",
    "sns.kdeplot(landslide_data['fatality_count'], ax=ax, fill=True, alpha=0.5, linewidth=0.5, color='#05b0a3')"
   ]
  },
  {
   "cell_type": "markdown",
   "id": "a42f741c-0f48-4d01-a3ad-c062e4b3d862",
   "metadata": {},
   "source": [
    "There are outliers to the right having extremely big values. This skews the distribution. "
   ]
  },
  {
   "cell_type": "code",
   "execution_count": 195,
   "id": "eed461e8-f756-44d0-96c7-78d13fcbda6c",
   "metadata": {},
   "outputs": [
    {
     "data": {
      "text/plain": [
       "87"
      ]
     },
     "execution_count": 195,
     "metadata": {},
     "output_type": "execute_result"
    }
   ],
   "source": [
    "landslide_data[landslide_data['fatality_count'] > 1000].size"
   ]
  },
  {
   "cell_type": "code",
   "execution_count": 196,
   "id": "30b9f036-3352-4812-8d4a-44a6aca9357a",
   "metadata": {},
   "outputs": [],
   "source": [
    "landslide_data_without_outliers = landslide_data[np.abs(landslide_data[\"fatality_count\"]-landslide_data[\"fatality_count\"].mean())<=(3*landslide_data[\"fatality_count\"].std())] "
   ]
  },
  {
   "cell_type": "code",
   "execution_count": 214,
   "id": "683e1662-92a5-4c76-9c1a-c6b26a76b572",
   "metadata": {},
   "outputs": [],
   "source": [
    "landslide_data['log_fatality_count'] = np.log2(landslide_data['fatality_count'] + 1)"
   ]
  },
  {
   "cell_type": "code",
   "execution_count": 215,
   "id": "cd32e6bd-618c-49fd-b92d-ab009b37ff45",
   "metadata": {},
   "outputs": [
    {
     "data": {
      "text/plain": [
       "Index(['timestamp', 'event_source', 'landslide_category', 'landslide_trigger',\n",
       "       'landslide_size', 'landslide_setting', 'fatality_count', 'injury_count',\n",
       "       'country_code', 'longitude', 'latitude', 'log_fatality_count'],\n",
       "      dtype='object')"
      ]
     },
     "execution_count": 215,
     "metadata": {},
     "output_type": "execute_result"
    }
   ],
   "source": [
    "landslide_data.columns"
   ]
  },
  {
   "cell_type": "code",
   "execution_count": 217,
   "id": "6e5c987f-0740-4f98-8739-8f02eb7bb072",
   "metadata": {},
   "outputs": [],
   "source": [
    "landslide_data_without_outliers['log_fatality_count'] = np.log2(landslide_data['fatality_count'] + 1)"
   ]
  },
  {
   "cell_type": "code",
   "execution_count": 219,
   "id": "2e81340b-75ea-4387-9f6d-49fb951932e0",
   "metadata": {},
   "outputs": [
    {
     "data": {
      "text/plain": [
       "<Axes: xlabel='log_fatality_count', ylabel='Density'>"
      ]
     },
     "execution_count": 219,
     "metadata": {},
     "output_type": "execute_result"
    },
    {
     "data": {
      "image/png": "[encoded data removed]",
      "text/plain": [
       "<Figure size 640x480 with 2 Axes>"
      ]
     },
     "metadata": {},
     "output_type": "display_data"
    }
   ],
   "source": [
    "fig, axes = plt.subplots(ncols=2, nrows=1)\n",
    "sns.kdeplot(landslide_data['log_fatality_count'], ax=axes[0], fill=True, alpha=0.5, linewidth=0.5, color='#05b0a3')\n",
    "sns.kdeplot(landslide_data_without_outliers['log_fatality_count'], ax=axes[1], fill=True, alpha=0.5, linewidth=0.5, color='#05b0a3')"
   ]
  },
  {
   "cell_type": "code",
   "execution_count": 212,
   "id": "5fb5b811-321c-4d81-9304-fe0a0082b44f",
   "metadata": {},
   "outputs": [
    {
     "data": {
      "text/plain": [
       "(9640, 11)"
      ]
     },
     "execution_count": 212,
     "metadata": {},
     "output_type": "execute_result"
    }
   ],
   "source": [
    "landslide_data.shape\n",
    "# landslide_data_without_outliers['log_fatality_count'] = np.log2(landslide_data['fatality_count'] + 1)"
   ]
  },
  {
   "cell_type": "code",
   "execution_count": 200,
   "id": "7a7fffee-bf5b-4f54-90c7-043b35d0ad3e",
   "metadata": {},
   "outputs": [],
   "source": [
    "# fig, ax = plt.subplots()\n",
    "# sns.kdeplot(landslide_data_without_outliers['log_fatality_count'], ax=ax, fill=True, alpha=0.5, linewidth=0.5, color='#05b0a3')"
   ]
  },
  {
   "cell_type": "markdown",
   "id": "f28a24be-7e8a-457a-b2a5-5ba94a6e92b9",
   "metadata": {},
   "source": [
    "<div style=\"font-size: 15px\"><b>Select Columns to Use</b></div>\n",
    "We will select columns that seem correlated with the target fatality_count"
   ]
  },
  {
   "cell_type": "code",
   "execution_count": 201,
   "id": "0b83d955-afdc-43f8-8ef6-49d45644d305",
   "metadata": {},
   "outputs": [],
   "source": [
    "used_columns = ['timestamp', 'event_source', 'landslide_category', 'landslide_trigger', 'landslide_size', 'landslide_setting', 'log_fatality_count', 'injury_count', 'country_code', 'longitude', 'latitude']"
   ]
  },
  {
   "cell_type": "code",
   "execution_count": 202,
   "id": "aeefecdf-872b-4a8f-ba4c-92ac8bcfb371",
   "metadata": {},
   "outputs": [],
   "source": [
    "landslide_data = landslide_data[used_columns]\n",
    "landslide_data_without_outliers = landslide_data_without_outliers[used_columns]"
   ]
  },
  {
   "cell_type": "code",
   "execution_count": 203,
   "id": "e6270a55-49a5-418a-a238-cfd20a1f5309",
   "metadata": {},
   "outputs": [
    {
     "data": {
      "text/plain": [
       "(9640, 11)"
      ]
     },
     "execution_count": 203,
     "metadata": {},
     "output_type": "execute_result"
    }
   ],
   "source": [
    "landslide_data.shape"
   ]
  },
  {
   "cell_type": "markdown",
   "id": "d58d85c8-689f-4c63-9d02-0aebd260c36f",
   "metadata": {},
   "source": [
    "<div style=\"font-size: 15px\"><b>Missing Values</b></div>\n",
    "We have dealt some missing values above. In this section, we will look at other columns that contain missing values."
   ]
  },
  {
   "cell_type": "code",
   "execution_count": 222,
   "id": "04debb77-cd65-48f2-817a-7b634354b842",
   "metadata": {},
   "outputs": [
    {
     "data": {
      "text/plain": [
       "timestamp                0\n",
       "event_source             0\n",
       "landslide_category       0\n",
       "landslide_trigger        0\n",
       "landslide_size           0\n",
       "landslide_setting        0\n",
       "fatality_count           0\n",
       "injury_count          4297\n",
       "country_code          1510\n",
       "longitude                0\n",
       "latitude                 0\n",
       "log_fatality_count       0\n",
       "dtype: int64"
      ]
     },
     "execution_count": 222,
     "metadata": {},
     "output_type": "execute_result"
    }
   ],
   "source": [
    "landslide_data.isna().sum()"
   ]
  },
  {
   "cell_type": "markdown",
   "id": "34c955c5-eef4-49e5-8430-fa407a8cb05c",
   "metadata": {},
   "source": [
    "<div style=\"font-size: 12px\"><b>1. injury_count missing values - Impute class average</b></div>\n",
    "For injury_count, we will divide the input points that have injury_count into 4 classes based on the quantiles of fatality_count. Then we will compute the average injury_count in those classes and impute the missing values with the average corresponding to the class the row's fatality_count belongs to."
   ]
  },
  {
   "cell_type": "code",
   "execution_count": 260,
   "id": "84a852ae-145b-42a5-a681-b78e46c60bc1",
   "metadata": {},
   "outputs": [],
   "source": [
    "fatality_quantiles = landslide_data['fatality_count'].quantile([0, 0.9, 0.95, 0.99, 1])\n",
    "fatality_quantiles = fatality_quantiles.to_list()"
   ]
  },
  {
   "cell_type": "code",
   "execution_count": 261,
   "id": "f22c683c-be07-41f1-8fc2-28f9d972bed6",
   "metadata": {},
   "outputs": [],
   "source": [
    "def compute_fatality_class(row):\n",
    "    count = row['fatality_count']\n",
    "    if count <= fatality_quantiles[1]:\n",
    "        row['fatality_class'] = 0\n",
    "    elif fatality_quantiles[1] < count <= fatality_quantiles[2]:\n",
    "        row['fatality_class'] = 1\n",
    "    elif fatality_quantiles[2] < count <= fatality_quantiles[3]:\n",
    "        row['fatality_class'] = 2\n",
    "    else:\n",
    "        row['fatality_class'] = 3\n",
    "    return row\n",
    "landslide_data = landslide_data.apply(compute_fatality_class, axis=1)"
   ]
  },
  {
   "cell_type": "code",
   "execution_count": 262,
   "id": "347c2861-6853-4f8f-b08c-d8d4f27e6915",
   "metadata": {},
   "outputs": [],
   "source": [
    "landslide_injury_count = landslide_data[landslide_data['injury_count'].notna()]"
   ]
  },
  {
   "cell_type": "code",
   "execution_count": 263,
   "id": "a8cc5419-deff-469e-8c91-e1b4257fa64f",
   "metadata": {},
   "outputs": [],
   "source": [
    "fatality_count_by_class = landslide_injury_count.groupby('fatality_class')['injury_count'].mean()"
   ]
  },
  {
   "cell_type": "code",
   "execution_count": 264,
   "id": "f1da5951-420a-484b-96e1-6ec1624e4dde",
   "metadata": {},
   "outputs": [],
   "source": [
    "fatality_count_by_class = fatality_count_by_class.to_dict()"
   ]
  },
  {
   "cell_type": "code",
   "execution_count": 266,
   "id": "099fb93b-5d68-4c1d-b4e1-8780e4273761",
   "metadata": {},
   "outputs": [],
   "source": [
    "def impute_injury_count(row):\n",
    "    fatality_class = row['fatality_class']\n",
    "    if pd.isna(row['injury_count']):\n",
    "        row['injury_count'] = fatality_count_by_class[fatality_class]\n",
    "    return row\n",
    "    \n",
    "\n",
    "landslide_data = landslide_data.apply(impute_injury_count, axis=1)"
   ]
  },
  {
   "cell_type": "markdown",
   "id": "c492d44d-8e27-4598-867a-00b0c8e5359f",
   "metadata": {},
   "source": [
    "<div style=\"font-size: 12px\"><b>2. country_code missing values - create new class unknown</b></div>\n",
    "For missing country_code values, we will create a new class unknown."
   ]
  },
  {
   "cell_type": "code",
   "execution_count": 273,
   "id": "f79f8780-d788-41d8-8703-464b91824d16",
   "metadata": {},
   "outputs": [],
   "source": [
    "def assign_missing_country_code(row):\n",
    "    if pd.isna(row['country_code']):\n",
    "        row['country_code'] = 'unknown'\n",
    "    return row\n",
    "landslide_data = landslide_data.apply(assign_missing_country_code, axis=1)"
   ]
  },
  {
   "cell_type": "markdown",
   "id": "045f275a-4e00-4d09-8c5a-8c03760e5618",
   "metadata": {},
   "source": [
    "<div style=\"font-size: 20px\"><b>Country GDP Dataset</b></div>\n",
    "We will now turn to the country GDP dataset"
   ]
  },
  {
   "cell_type": "markdown",
   "id": "e0119596-fd72-41c2-b814-1c794aa958f1",
   "metadata": {},
   "source": [
    "<div style=\"border: 1px solid lightgrey; width: 80%\"></div>"
   ]
  },
  {
   "cell_type": "code",
   "execution_count": 276,
   "id": "9c462b4e-e710-4b18-be41-7e2526d6b1e2",
   "metadata": {},
   "outputs": [],
   "source": [
    "gdp_data = pd.read_csv('gdp.csv')"
   ]
  },
  {
   "cell_type": "code",
   "execution_count": 279,
   "id": "c773d314-068d-4322-9232-463981a372f0",
   "metadata": {},
   "outputs": [],
   "source": [
    "landslide_data['year'] = landslide_data['timestamp'].dt.year"
   ]
  },
  {
   "cell_type": "code",
   "execution_count": 285,
   "id": "23371981-1766-4000-a1d6-cd06b93853c4",
   "metadata": {},
   "outputs": [
    {
     "data": {
      "text/plain": [
       "dtype('int64')"
      ]
     },
     "execution_count": 285,
     "metadata": {},
     "output_type": "execute_result"
    }
   ],
   "source": []
  },
  {
   "cell_type": "code",
   "execution_count": 288,
   "id": "183e6294-6bf3-4ec1-a606-5ce1ea1a7899",
   "metadata": {},
   "outputs": [],
   "source": [
    "df = landslide_data.merge(gdp_data, left_on=['country_code', 'year'], right_on=['Country Code', 'Year'], how='left' )"
   ]
  },
  {
   "cell_type": "code",
   "execution_count": 290,
   "id": "543f71c7-7b54-46f4-aed6-14da46d20799",
   "metadata": {},
   "outputs": [
    {
     "data": {
      "text/plain": [
       "year            2008\n",
       "country_code      CN\n",
       "Name: 0, dtype: object"
      ]
     },
     "execution_count": 290,
     "metadata": {},
     "output_type": "execute_result"
    }
   ],
   "source": [
    "landslide_data.iloc[0][['year', 'country_code']]"
   ]
  },
  {
   "cell_type": "code",
   "execution_count": 295,
   "id": "17cbaca6-f7ab-45bb-8363-e3aafd3ffbf8",
   "metadata": {},
   "outputs": [
    {
     "data": {
      "text/plain": [
       "count     11507\n",
       "unique      256\n",
       "top         HKG\n",
       "freq         57\n",
       "Name: Country Code, dtype: object"
      ]
     },
     "execution_count": 295,
     "metadata": {},
     "output_type": "execute_result"
    }
   ],
   "source": [
    "gdp_data['Country Code'].describe()"
   ]
  },
  {
   "cell_type": "code",
   "execution_count": null,
   "id": "5295a5f2-f114-4542-ada1-20390b4c74f6",
   "metadata": {},
   "outputs": [],
   "source": []
  }
 ],
 "metadata": {
  "kernelspec": {
   "display_name": "Python 3 (ipykernel)",
   "language": "python",
   "name": "python3"
  },
  "language_info": {
   "codemirror_mode": {
    "name": "ipython",
    "version": 3
   },
   "file_extension": ".py",
   "mimetype": "text/x-python",
   "name": "python",
   "nbconvert_exporter": "python",
   "pygments_lexer": "ipython3",
   "version": "3.11.9"
  }
 },
 "nbformat": 4,
 "nbformat_minor": 5
}
