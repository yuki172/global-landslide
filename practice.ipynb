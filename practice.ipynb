{
 "cells": [
  {
   "cell_type": "code",
   "execution_count": 1,
   "id": "3c6160fa-3a6c-4471-b35f-69d078c43f8b",
   "metadata": {},
   "outputs": [],
   "source": [
    "import pandas as pd\n",
    "import numpy as np\n",
    "import seaborn as sns\n",
    "import matplotlib.pyplot as plt\n",
    "%matplotlib inline"
   ]
  },
  {
   "cell_type": "code",
   "execution_count": 2,
   "id": "fb0847a1-6584-407f-bbf9-fa668a23a1e0",
   "metadata": {},
   "outputs": [],
   "source": [
    "full_data = pd.read_csv('landslide_data.csv')"
   ]
  },
  {
   "cell_type": "code",
   "execution_count": 3,
   "id": "020c2950-d24e-4565-a5be-cfc5ffbdc42a",
   "metadata": {},
   "outputs": [
    {
     "data": {
      "text/plain": [
       "source_name                   object\n",
       "source_link                   object\n",
       "event_id                       int64\n",
       "event_date                    object\n",
       "event_time                   float64\n",
       "event_title                   object\n",
       "event_description             object\n",
       "location_description          object\n",
       "location_accuracy             object\n",
       "landslide_category            object\n",
       "landslide_trigger             object\n",
       "landslide_size                object\n",
       "landslide_setting             object\n",
       "fatality_count               float64\n",
       "injury_count                 float64\n",
       "storm_name                    object\n",
       "photo_link                    object\n",
       "notes                         object\n",
       "event_import_source           object\n",
       "event_import_id              float64\n",
       "country_name                  object\n",
       "country_code                  object\n",
       "admin_division_name           object\n",
       "admin_division_population    float64\n",
       "gazeteer_closest_point        object\n",
       "gazeteer_distance            float64\n",
       "submitted_date                object\n",
       "created_date                  object\n",
       "last_edited_date              object\n",
       "longitude                    float64\n",
       "latitude                     float64\n",
       "dtype: object"
      ]
     },
     "execution_count": 3,
     "metadata": {},
     "output_type": "execute_result"
    }
   ],
   "source": [
    "full_data.dtypes"
   ]
  },
  {
   "cell_type": "code",
   "execution_count": 4,
   "id": "328b0f32-a8f3-45d6-975c-1a904ca1a74a",
   "metadata": {},
   "outputs": [
    {
     "data": {
      "text/plain": [
       "(11033, 31)"
      ]
     },
     "execution_count": 4,
     "metadata": {},
     "output_type": "execute_result"
    }
   ],
   "source": [
    "full_data.shape"
   ]
  },
  {
   "cell_type": "code",
   "execution_count": 13,
   "id": "1229b08e-3d7f-4d46-91be-77963cb88c78",
   "metadata": {},
   "outputs": [],
   "source": [
    "full_data['timestamp'] = pd.to_datetime(full_data['event_date'], format='%m/%d/%Y %H:%M:%S %p')"
   ]
  },
  {
   "cell_type": "code",
   "execution_count": 14,
   "id": "e02a0eb4-71b1-4964-a084-abadb7bad838",
   "metadata": {},
   "outputs": [
    {
     "data": {
      "text/plain": [
       "0       2008-08-01 12:00:00\n",
       "1       2009-01-02 02:00:00\n",
       "2       2007-01-19 12:00:00\n",
       "3       2009-07-31 12:00:00\n",
       "4       2010-10-16 12:00:00\n",
       "                ...        \n",
       "11028   2017-04-01 01:34:00\n",
       "11029   2017-03-25 05:32:00\n",
       "11030   2016-12-15 05:00:00\n",
       "11031   2017-04-29 07:03:00\n",
       "11032   2017-03-13 02:32:00\n",
       "Name: timestamp, Length: 11033, dtype: datetime64[ns]"
      ]
     },
     "execution_count": 14,
     "metadata": {},
     "output_type": "execute_result"
    }
   ],
   "source": [
    "full_data['timestamp']"
   ]
  },
  {
   "cell_type": "code",
   "execution_count": 17,
   "id": "9c9b92ed-deda-410d-bb33-022fe69ac7d5",
   "metadata": {},
   "outputs": [],
   "source": [
    "full_data['landslide_category'] = full_data['landslide_category'].astype('category')"
   ]
  },
  {
   "cell_type": "code",
   "execution_count": 18,
   "id": "0883343a-0754-4fce-97ff-498cf763d508",
   "metadata": {},
   "outputs": [
    {
     "data": {
      "text/plain": [
       "count         11032\n",
       "unique           14\n",
       "top       landslide\n",
       "freq           7648\n",
       "Name: landslide_category, dtype: object"
      ]
     },
     "execution_count": 18,
     "metadata": {},
     "output_type": "execute_result"
    }
   ],
   "source": [
    "full_data['landslide_category'].describe()"
   ]
  },
  {
   "cell_type": "code",
   "execution_count": null,
   "id": "567bca0b-4084-475c-be58-73ae0bc9b2a3",
   "metadata": {},
   "outputs": [],
   "source": []
  }
 ],
 "metadata": {
  "kernelspec": {
   "display_name": "Python 3 (ipykernel)",
   "language": "python",
   "name": "python3"
  },
  "language_info": {
   "codemirror_mode": {
    "name": "ipython",
    "version": 3
   },
   "file_extension": ".py",
   "mimetype": "text/x-python",
   "name": "python",
   "nbconvert_exporter": "python",
   "pygments_lexer": "ipython3",
   "version": "3.11.9"
  }
 },
 "nbformat": 4,
 "nbformat_minor": 5
}
