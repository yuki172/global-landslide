{
 "cells": [
  {
   "cell_type": "code",
   "execution_count": 76,
   "id": "3c6160fa-3a6c-4471-b35f-69d078c43f8b",
   "metadata": {},
   "outputs": [],
   "source": [
    "import pandas as pd\n",
    "import numpy as np\n",
    "import seaborn as sns\n",
    "import matplotlib.pyplot as plt\n",
    "%matplotlib inline"
   ]
  },
  {
   "cell_type": "code",
   "execution_count": 77,
   "id": "fb0847a1-6584-407f-bbf9-fa668a23a1e0",
   "metadata": {},
   "outputs": [],
   "source": [
    "landslide_data = pd.read_csv('landslide_data.csv')"
   ]
  },
  {
   "cell_type": "code",
   "execution_count": 78,
   "id": "020c2950-d24e-4565-a5be-cfc5ffbdc42a",
   "metadata": {},
   "outputs": [
    {
     "data": {
      "text/plain": [
       "source_name                   object\n",
       "source_link                   object\n",
       "event_id                       int64\n",
       "event_date                    object\n",
       "event_time                   float64\n",
       "event_title                   object\n",
       "event_description             object\n",
       "location_description          object\n",
       "location_accuracy             object\n",
       "landslide_category            object\n",
       "landslide_trigger             object\n",
       "landslide_size                object\n",
       "landslide_setting             object\n",
       "fatality_count               float64\n",
       "injury_count                 float64\n",
       "storm_name                    object\n",
       "photo_link                    object\n",
       "notes                         object\n",
       "event_import_source           object\n",
       "event_import_id              float64\n",
       "country_name                  object\n",
       "country_code                  object\n",
       "admin_division_name           object\n",
       "admin_division_population    float64\n",
       "gazeteer_closest_point        object\n",
       "gazeteer_distance            float64\n",
       "submitted_date                object\n",
       "created_date                  object\n",
       "last_edited_date              object\n",
       "longitude                    float64\n",
       "latitude                     float64\n",
       "dtype: object"
      ]
     },
     "execution_count": 78,
     "metadata": {},
     "output_type": "execute_result"
    }
   ],
   "source": [
    "landslide_data.dtypes"
   ]
  },
  {
   "cell_type": "code",
   "execution_count": 79,
   "id": "328b0f32-a8f3-45d6-975c-1a904ca1a74a",
   "metadata": {},
   "outputs": [
    {
     "data": {
      "text/plain": [
       "(11033, 31)"
      ]
     },
     "execution_count": 79,
     "metadata": {},
     "output_type": "execute_result"
    }
   ],
   "source": [
    "landslide_data.shape\n",
    "used_columns = ['timestamp', 'event_source', 'landslide_category', 'landslide_trigger', 'landslide_size', 'landslide_setting', 'fatality_count', 'injury_count', 'country_code', 'longitude', 'latitude'] "
   ]
  },
  {
   "cell_type": "code",
   "execution_count": 80,
   "id": "1229b08e-3d7f-4d46-91be-77963cb88c78",
   "metadata": {},
   "outputs": [],
   "source": [
    "landslide_data['timestamp'] = pd.to_datetime(landslide_data['event_date'], format='%m/%d/%Y %H:%M:%S %p')"
   ]
  },
  {
   "cell_type": "code",
   "execution_count": 81,
   "id": "e02a0eb4-71b1-4964-a084-abadb7bad838",
   "metadata": {},
   "outputs": [
    {
     "data": {
      "text/plain": [
       "0       2008-08-01 12:00:00\n",
       "1       2009-01-02 02:00:00\n",
       "2       2007-01-19 12:00:00\n",
       "3       2009-07-31 12:00:00\n",
       "4       2010-10-16 12:00:00\n",
       "                ...        \n",
       "11028   2017-04-01 01:34:00\n",
       "11029   2017-03-25 05:32:00\n",
       "11030   2016-12-15 05:00:00\n",
       "11031   2017-04-29 07:03:00\n",
       "11032   2017-03-13 02:32:00\n",
       "Name: timestamp, Length: 11033, dtype: datetime64[ns]"
      ]
     },
     "execution_count": 81,
     "metadata": {},
     "output_type": "execute_result"
    }
   ],
   "source": [
    "landslide_data['timestamp']"
   ]
  },
  {
   "cell_type": "code",
   "execution_count": 82,
   "id": "9c9b92ed-deda-410d-bb33-022fe69ac7d5",
   "metadata": {},
   "outputs": [],
   "source": [
    "landslide_data['landslide_category'] = landslide_data['landslide_category'].astype('category')"
   ]
  },
  {
   "cell_type": "code",
   "execution_count": 83,
   "id": "0883343a-0754-4fce-97ff-498cf763d508",
   "metadata": {},
   "outputs": [
    {
     "data": {
      "text/plain": [
       "count         11032\n",
       "unique           14\n",
       "top       landslide\n",
       "freq           7648\n",
       "Name: landslide_category, dtype: object"
      ]
     },
     "execution_count": 83,
     "metadata": {},
     "output_type": "execute_result"
    }
   ],
   "source": [
    "landslide_data['landslide_category'].describe()"
   ]
  },
  {
   "cell_type": "code",
   "execution_count": 84,
   "id": "567bca0b-4084-475c-be58-73ae0bc9b2a3",
   "metadata": {},
   "outputs": [
    {
     "data": {
      "text/plain": [
       "(11033, 32)"
      ]
     },
     "execution_count": 84,
     "metadata": {},
     "output_type": "execute_result"
    }
   ],
   "source": [
    "landslide_data['source_name'].nunique()\n",
    "landslide_data.shape"
   ]
  },
  {
   "cell_type": "code",
   "execution_count": 85,
   "id": "997f7959-9378-423e-9112-6e4bc79d7355",
   "metadata": {},
   "outputs": [
    {
     "data": {
      "text/html": [
       "<div>\n",
       "<style scoped>\n",
       "    .dataframe tbody tr th:only-of-type {\n",
       "        vertical-align: middle;\n",
       "    }\n",
       "\n",
       "    .dataframe tbody tr th {\n",
       "        vertical-align: top;\n",
       "    }\n",
       "\n",
       "    .dataframe thead th {\n",
       "        text-align: right;\n",
       "    }\n",
       "</style>\n",
       "<table border=\"1\" class=\"dataframe\">\n",
       "  <thead>\n",
       "    <tr style=\"text-align: right;\">\n",
       "      <th></th>\n",
       "      <th>source_name</th>\n",
       "      <th>count</th>\n",
       "    </tr>\n",
       "  </thead>\n",
       "  <tbody>\n",
       "    <tr>\n",
       "      <th>0</th>\n",
       "      <td>Oregon DOT</td>\n",
       "      <td>768</td>\n",
       "    </tr>\n",
       "    <tr>\n",
       "      <th>1</th>\n",
       "      <td>maps.google.com</td>\n",
       "      <td>104</td>\n",
       "    </tr>\n",
       "    <tr>\n",
       "      <th>2</th>\n",
       "      <td>thehimalayantimes</td>\n",
       "      <td>75</td>\n",
       "    </tr>\n",
       "    <tr>\n",
       "      <th>3</th>\n",
       "      <td>news.xinhuanet</td>\n",
       "      <td>74</td>\n",
       "    </tr>\n",
       "    <tr>\n",
       "      <th>4</th>\n",
       "      <td>newsinfo.inquirer</td>\n",
       "      <td>71</td>\n",
       "    </tr>\n",
       "    <tr>\n",
       "      <th>5</th>\n",
       "      <td>thejakartapost</td>\n",
       "      <td>59</td>\n",
       "    </tr>\n",
       "    <tr>\n",
       "      <th>6</th>\n",
       "      <td>ibnlive.in</td>\n",
       "      <td>57</td>\n",
       "    </tr>\n",
       "    <tr>\n",
       "      <th>7</th>\n",
       "      <td>Times of India</td>\n",
       "      <td>47</td>\n",
       "    </tr>\n",
       "    <tr>\n",
       "      <th>8</th>\n",
       "      <td>The Jakarta Post</td>\n",
       "      <td>46</td>\n",
       "    </tr>\n",
       "    <tr>\n",
       "      <th>9</th>\n",
       "      <td>The Himalayan Times</td>\n",
       "      <td>43</td>\n",
       "    </tr>\n",
       "    <tr>\n",
       "      <th>10</th>\n",
       "      <td>articles.timesofindia.indiatimes.com</td>\n",
       "      <td>42</td>\n",
       "    </tr>\n",
       "    <tr>\n",
       "      <th>11</th>\n",
       "      <td>Seattle Times</td>\n",
       "      <td>41</td>\n",
       "    </tr>\n",
       "    <tr>\n",
       "      <th>12</th>\n",
       "      <td>laht</td>\n",
       "      <td>40</td>\n",
       "    </tr>\n",
       "    <tr>\n",
       "      <th>13</th>\n",
       "      <td>GMA News</td>\n",
       "      <td>38</td>\n",
       "    </tr>\n",
       "    <tr>\n",
       "      <th>14</th>\n",
       "      <td>Hindustan Times</td>\n",
       "      <td>38</td>\n",
       "    </tr>\n",
       "    <tr>\n",
       "      <th>15</th>\n",
       "      <td>reliefweb</td>\n",
       "      <td>38</td>\n",
       "    </tr>\n",
       "    <tr>\n",
       "      <th>16</th>\n",
       "      <td>The Hindu</td>\n",
       "      <td>38</td>\n",
       "    </tr>\n",
       "    <tr>\n",
       "      <th>17</th>\n",
       "      <td>google</td>\n",
       "      <td>36</td>\n",
       "    </tr>\n",
       "    <tr>\n",
       "      <th>18</th>\n",
       "      <td>Red Cross - Field reports</td>\n",
       "      <td>36</td>\n",
       "    </tr>\n",
       "    <tr>\n",
       "      <th>19</th>\n",
       "      <td>colombiareports.com</td>\n",
       "      <td>34</td>\n",
       "    </tr>\n",
       "    <tr>\n",
       "      <th>20</th>\n",
       "      <td>abs-cbnnews</td>\n",
       "      <td>33</td>\n",
       "    </tr>\n",
       "    <tr>\n",
       "      <th>21</th>\n",
       "      <td>gmanews</td>\n",
       "      <td>32</td>\n",
       "    </tr>\n",
       "    <tr>\n",
       "      <th>22</th>\n",
       "      <td>articles.timesofindia</td>\n",
       "      <td>32</td>\n",
       "    </tr>\n",
       "    <tr>\n",
       "      <th>23</th>\n",
       "      <td>The Times of India</td>\n",
       "      <td>31</td>\n",
       "    </tr>\n",
       "    <tr>\n",
       "      <th>24</th>\n",
       "      <td>eKantipur</td>\n",
       "      <td>31</td>\n",
       "    </tr>\n",
       "    <tr>\n",
       "      <th>25</th>\n",
       "      <td>Indian Express</td>\n",
       "      <td>31</td>\n",
       "    </tr>\n",
       "    <tr>\n",
       "      <th>26</th>\n",
       "      <td>chinadaily</td>\n",
       "      <td>29</td>\n",
       "    </tr>\n",
       "    <tr>\n",
       "      <th>27</th>\n",
       "      <td>myrepublica</td>\n",
       "      <td>29</td>\n",
       "    </tr>\n",
       "    <tr>\n",
       "      <th>28</th>\n",
       "      <td>The Star</td>\n",
       "      <td>29</td>\n",
       "    </tr>\n",
       "    <tr>\n",
       "      <th>29</th>\n",
       "      <td>The Daily Star</td>\n",
       "      <td>28</td>\n",
       "    </tr>\n",
       "  </tbody>\n",
       "</table>\n",
       "</div>"
      ],
      "text/plain": [
       "                             source_name  count\n",
       "0                             Oregon DOT    768\n",
       "1                        maps.google.com    104\n",
       "2                      thehimalayantimes     75\n",
       "3                         news.xinhuanet     74\n",
       "4                      newsinfo.inquirer     71\n",
       "5                         thejakartapost     59\n",
       "6                             ibnlive.in     57\n",
       "7                         Times of India     47\n",
       "8                       The Jakarta Post     46\n",
       "9                    The Himalayan Times     43\n",
       "10  articles.timesofindia.indiatimes.com     42\n",
       "11                         Seattle Times     41\n",
       "12                                  laht     40\n",
       "13                              GMA News     38\n",
       "14                       Hindustan Times     38\n",
       "15                             reliefweb     38\n",
       "16                             The Hindu     38\n",
       "17                                google     36\n",
       "18             Red Cross - Field reports     36\n",
       "19                   colombiareports.com     34\n",
       "20                           abs-cbnnews     33\n",
       "21                               gmanews     32\n",
       "22                 articles.timesofindia     32\n",
       "23                    The Times of India     31\n",
       "24                             eKantipur     31\n",
       "25                        Indian Express     31\n",
       "26                            chinadaily     29\n",
       "27                           myrepublica     29\n",
       "28                              The Star     29\n",
       "29                        The Daily Star     28"
      ]
     },
     "execution_count": 85,
     "metadata": {},
     "output_type": "execute_result"
    }
   ],
   "source": [
    "df1 = landslide_data.groupby(['source_name']).size().sort_values(ascending=False).reset_index(name=\"count\")\n",
    "df1.head(30)"
   ]
  },
  {
   "cell_type": "code",
   "execution_count": 86,
   "id": "8f14ad7d-3d5c-42c2-b1f8-b2df7c667c57",
   "metadata": {},
   "outputs": [],
   "source": [
    "major_sources = set(df1['source_name'].iloc[:20])"
   ]
  },
  {
   "cell_type": "code",
   "execution_count": 87,
   "id": "a57808d6-3d1b-4edf-9bc5-bd34de6f2851",
   "metadata": {},
   "outputs": [
    {
     "name": "stdout",
     "output_type": "stream",
     "text": [
      "{'Red Cross - Field reports', 'Hindustan Times', 'maps.google.com', 'The Jakarta Post', 'thejakartapost', 'google', 'thehimalayantimes', 'colombiareports.com', 'news.xinhuanet', 'Times of India', 'GMA News', 'newsinfo.inquirer', 'laht', 'Oregon DOT', 'Seattle Times', 'The Hindu', 'ibnlive.in', 'reliefweb', 'articles.timesofindia.indiatimes.com', 'The Himalayan Times'}\n"
     ]
    }
   ],
   "source": [
    "print(major_sources)"
   ]
  },
  {
   "cell_type": "code",
   "execution_count": 88,
   "id": "3e74bb91-0258-4ef3-ba2c-9791e3165a24",
   "metadata": {},
   "outputs": [],
   "source": [
    "def getEventSource(row):\n",
    "    source = 'Others'\n",
    "    if row['source_name'] in major_sources:\n",
    "        source = row['source_name']\n",
    "    row['event_source'] = source\n",
    "    return row\n",
    "    \n",
    "\n",
    "df2 = landslide_data.apply(getEventSource, axis=1)"
   ]
  },
  {
   "cell_type": "code",
   "execution_count": 90,
   "id": "6b4941ab-1943-4386-aeae-05402bcf3184",
   "metadata": {},
   "outputs": [
    {
     "data": {
      "text/html": [
       "<div>\n",
       "<style scoped>\n",
       "    .dataframe tbody tr th:only-of-type {\n",
       "        vertical-align: middle;\n",
       "    }\n",
       "\n",
       "    .dataframe tbody tr th {\n",
       "        vertical-align: top;\n",
       "    }\n",
       "\n",
       "    .dataframe thead th {\n",
       "        text-align: right;\n",
       "    }\n",
       "</style>\n",
       "<table border=\"1\" class=\"dataframe\">\n",
       "  <thead>\n",
       "    <tr style=\"text-align: right;\">\n",
       "      <th></th>\n",
       "      <th>source_name</th>\n",
       "      <th>source_link</th>\n",
       "      <th>event_id</th>\n",
       "      <th>event_date</th>\n",
       "      <th>event_time</th>\n",
       "      <th>event_title</th>\n",
       "      <th>event_description</th>\n",
       "      <th>location_description</th>\n",
       "      <th>location_accuracy</th>\n",
       "      <th>landslide_category</th>\n",
       "      <th>...</th>\n",
       "      <th>admin_division_population</th>\n",
       "      <th>gazeteer_closest_point</th>\n",
       "      <th>gazeteer_distance</th>\n",
       "      <th>submitted_date</th>\n",
       "      <th>created_date</th>\n",
       "      <th>last_edited_date</th>\n",
       "      <th>longitude</th>\n",
       "      <th>latitude</th>\n",
       "      <th>timestamp</th>\n",
       "      <th>event_source</th>\n",
       "    </tr>\n",
       "  </thead>\n",
       "  <tbody>\n",
       "    <tr>\n",
       "      <th>553</th>\n",
       "      <td>google</td>\n",
       "      <td>http://www.google.com/hostednews/canadianpress...</td>\n",
       "      <td>2410</td>\n",
       "      <td>09/10/2010 12:00:00 AM</td>\n",
       "      <td>NaN</td>\n",
       "      <td>Atrani village, less then 1 mi from Amalfi</td>\n",
       "      <td>Sep 10, 2010  ROME — A river of mud unleashed ...</td>\n",
       "      <td>Atrani village, less then 1 mi from Amalfi</td>\n",
       "      <td>1km</td>\n",
       "      <td>mudslide</td>\n",
       "      <td>...</td>\n",
       "      <td>887.0</td>\n",
       "      <td>Atrani</td>\n",
       "      <td>0.24389</td>\n",
       "      <td>04/01/2014 12:00:00 AM</td>\n",
       "      <td>11/20/2017 03:17:00 PM</td>\n",
       "      <td>02/15/2018 03:51:00 PM</td>\n",
       "      <td>14.6074</td>\n",
       "      <td>40.6378</td>\n",
       "      <td>2010-09-10 12:00:00</td>\n",
       "      <td>google</td>\n",
       "    </tr>\n",
       "  </tbody>\n",
       "</table>\n",
       "<p>1 rows × 33 columns</p>\n",
       "</div>"
      ],
      "text/plain": [
       "    source_name                                        source_link  event_id  \\\n",
       "553      google  http://www.google.com/hostednews/canadianpress...      2410   \n",
       "\n",
       "                 event_date  event_time  \\\n",
       "553  09/10/2010 12:00:00 AM         NaN   \n",
       "\n",
       "                                    event_title  \\\n",
       "553  Atrani village, less then 1 mi from Amalfi   \n",
       "\n",
       "                                     event_description  \\\n",
       "553  Sep 10, 2010  ROME — A river of mud unleashed ...   \n",
       "\n",
       "                           location_description location_accuracy  \\\n",
       "553  Atrani village, less then 1 mi from Amalfi               1km   \n",
       "\n",
       "    landslide_category  ... admin_division_population gazeteer_closest_point  \\\n",
       "553           mudslide  ...                     887.0                 Atrani   \n",
       "\n",
       "    gazeteer_distance          submitted_date            created_date  \\\n",
       "553           0.24389  04/01/2014 12:00:00 AM  11/20/2017 03:17:00 PM   \n",
       "\n",
       "           last_edited_date longitude latitude           timestamp  \\\n",
       "553  02/15/2018 03:51:00 PM   14.6074  40.6378 2010-09-10 12:00:00   \n",
       "\n",
       "     event_source  \n",
       "553        google  \n",
       "\n",
       "[1 rows x 33 columns]"
      ]
     },
     "execution_count": 90,
     "metadata": {},
     "output_type": "execute_result"
    }
   ],
   "source": [
    "df2[df2['source_name'] == 'google'].head(1)"
   ]
  },
  {
   "cell_type": "code",
   "execution_count": 91,
   "id": "b29ba58f-f6b4-4fdd-9742-e3913094ceed",
   "metadata": {},
   "outputs": [
    {
     "data": {
      "text/plain": [
       "10549"
      ]
     },
     "execution_count": 91,
     "metadata": {},
     "output_type": "execute_result"
    }
   ],
   "source": [
    "landslide_data['event_title'].nunique()"
   ]
  },
  {
   "cell_type": "code",
   "execution_count": 99,
   "id": "cd3d9028-395f-4c85-8a6c-45b9bd98c1f7",
   "metadata": {},
   "outputs": [],
   "source": [
    "unused_columns = ['event_title', 'event_description', 'location_description', 'location_accuracy', 'storm_name', 'photo_link', 'notes', 'event_import_source', 'event_import_id', 'country_name']"
   ]
  },
  {
   "cell_type": "code",
   "execution_count": 93,
   "id": "4d31589f-8768-45d8-a71b-b10f555b805c",
   "metadata": {},
   "outputs": [
    {
     "data": {
      "text/plain": [
       "count         11032\n",
       "unique           14\n",
       "top       landslide\n",
       "freq           7648\n",
       "Name: landslide_category, dtype: object"
      ]
     },
     "execution_count": 93,
     "metadata": {},
     "output_type": "execute_result"
    }
   ],
   "source": [
    "landslide_data['landslide_category'].describe()"
   ]
  },
  {
   "cell_type": "code",
   "execution_count": 94,
   "id": "16085075-8ade-4b7a-85c1-20dc0c52a33a",
   "metadata": {},
   "outputs": [
    {
     "data": {
      "text/plain": [
       "count        11010\n",
       "unique          18\n",
       "top       downpour\n",
       "freq          4680\n",
       "Name: landslide_trigger, dtype: object"
      ]
     },
     "execution_count": 94,
     "metadata": {},
     "output_type": "execute_result"
    }
   ],
   "source": [
    "landslide_data['landslide_trigger'].describe()"
   ]
  },
  {
   "cell_type": "code",
   "execution_count": 95,
   "id": "e729beec-4af1-4d34-8f34-6673b02ae209",
   "metadata": {},
   "outputs": [
    {
     "data": {
      "text/plain": [
       "count      11024\n",
       "unique         6\n",
       "top       medium\n",
       "freq        6551\n",
       "Name: landslide_size, dtype: object"
      ]
     },
     "execution_count": 95,
     "metadata": {},
     "output_type": "execute_result"
    }
   ],
   "source": [
    "landslide_data['landslide_size'].describe()"
   ]
  },
  {
   "cell_type": "code",
   "execution_count": 96,
   "id": "ea0ad5e8-7f46-499b-939b-406c5dfd104e",
   "metadata": {},
   "outputs": [
    {
     "data": {
      "text/plain": [
       "count       10964\n",
       "unique         14\n",
       "top       unknown\n",
       "freq         6291\n",
       "Name: landslide_setting, dtype: object"
      ]
     },
     "execution_count": 96,
     "metadata": {},
     "output_type": "execute_result"
    }
   ],
   "source": [
    "landslide_data['landslide_setting'].describe()"
   ]
  },
  {
   "cell_type": "code",
   "execution_count": 97,
   "id": "3493c14e-657c-4642-960a-d5cd11d4d04a",
   "metadata": {},
   "outputs": [
    {
     "data": {
      "text/html": [
       "<div>\n",
       "<style scoped>\n",
       "    .dataframe tbody tr th:only-of-type {\n",
       "        vertical-align: middle;\n",
       "    }\n",
       "\n",
       "    .dataframe tbody tr th {\n",
       "        vertical-align: top;\n",
       "    }\n",
       "\n",
       "    .dataframe thead th {\n",
       "        text-align: right;\n",
       "    }\n",
       "</style>\n",
       "<table border=\"1\" class=\"dataframe\">\n",
       "  <thead>\n",
       "    <tr style=\"text-align: right;\">\n",
       "      <th></th>\n",
       "      <th>landslide_setting</th>\n",
       "      <th>count</th>\n",
       "    </tr>\n",
       "  </thead>\n",
       "  <tbody>\n",
       "    <tr>\n",
       "      <th>0</th>\n",
       "      <td>unknown</td>\n",
       "      <td>6291</td>\n",
       "    </tr>\n",
       "    <tr>\n",
       "      <th>1</th>\n",
       "      <td>above_road</td>\n",
       "      <td>3104</td>\n",
       "    </tr>\n",
       "    <tr>\n",
       "      <th>2</th>\n",
       "      <td>natural_slope</td>\n",
       "      <td>531</td>\n",
       "    </tr>\n",
       "    <tr>\n",
       "      <th>3</th>\n",
       "      <td>urban</td>\n",
       "      <td>264</td>\n",
       "    </tr>\n",
       "    <tr>\n",
       "      <th>4</th>\n",
       "      <td>below_road</td>\n",
       "      <td>199</td>\n",
       "    </tr>\n",
       "    <tr>\n",
       "      <th>5</th>\n",
       "      <td>mine</td>\n",
       "      <td>157</td>\n",
       "    </tr>\n",
       "    <tr>\n",
       "      <th>6</th>\n",
       "      <td>above_river</td>\n",
       "      <td>149</td>\n",
       "    </tr>\n",
       "    <tr>\n",
       "      <th>7</th>\n",
       "      <td>deforested_slope</td>\n",
       "      <td>53</td>\n",
       "    </tr>\n",
       "    <tr>\n",
       "      <th>8</th>\n",
       "      <td>other</td>\n",
       "      <td>50</td>\n",
       "    </tr>\n",
       "    <tr>\n",
       "      <th>9</th>\n",
       "      <td>bluff</td>\n",
       "      <td>48</td>\n",
       "    </tr>\n",
       "    <tr>\n",
       "      <th>10</th>\n",
       "      <td>retaining_wall</td>\n",
       "      <td>48</td>\n",
       "    </tr>\n",
       "    <tr>\n",
       "      <th>11</th>\n",
       "      <td>burned_area</td>\n",
       "      <td>28</td>\n",
       "    </tr>\n",
       "    <tr>\n",
       "      <th>12</th>\n",
       "      <td>engineered_slope</td>\n",
       "      <td>22</td>\n",
       "    </tr>\n",
       "    <tr>\n",
       "      <th>13</th>\n",
       "      <td>above_coast</td>\n",
       "      <td>20</td>\n",
       "    </tr>\n",
       "  </tbody>\n",
       "</table>\n",
       "</div>"
      ],
      "text/plain": [
       "   landslide_setting  count\n",
       "0            unknown   6291\n",
       "1         above_road   3104\n",
       "2      natural_slope    531\n",
       "3              urban    264\n",
       "4         below_road    199\n",
       "5               mine    157\n",
       "6        above_river    149\n",
       "7   deforested_slope     53\n",
       "8              other     50\n",
       "9              bluff     48\n",
       "10    retaining_wall     48\n",
       "11       burned_area     28\n",
       "12  engineered_slope     22\n",
       "13       above_coast     20"
      ]
     },
     "execution_count": 97,
     "metadata": {},
     "output_type": "execute_result"
    }
   ],
   "source": [
    "df2 = landslide_data.groupby(['landslide_setting']).size().sort_values(ascending=False).reset_index(name=\"count\")\n",
    "df2.head(30)"
   ]
  },
  {
   "cell_type": "code",
   "execution_count": 98,
   "id": "91bdb511-bf1d-41c9-a735-0c43c9cc1a21",
   "metadata": {},
   "outputs": [
    {
     "data": {
      "text/plain": [
       "source_name                      0\n",
       "source_link                    846\n",
       "event_id                         0\n",
       "event_date                       0\n",
       "event_time                   11033\n",
       "event_title                      0\n",
       "event_description              862\n",
       "location_description           102\n",
       "location_accuracy                2\n",
       "landslide_category               1\n",
       "landslide_trigger               23\n",
       "landslide_size                   9\n",
       "landslide_setting               69\n",
       "fatality_count                1385\n",
       "injury_count                  5674\n",
       "storm_name                   10456\n",
       "photo_link                    9537\n",
       "notes                        10716\n",
       "event_import_source           1563\n",
       "event_import_id               1562\n",
       "country_name                  1562\n",
       "country_code                  1564\n",
       "admin_division_name           1637\n",
       "admin_division_population     1562\n",
       "gazeteer_closest_point        1563\n",
       "gazeteer_distance             1562\n",
       "submitted_date                  10\n",
       "created_date                     1\n",
       "last_edited_date                 0\n",
       "longitude                        0\n",
       "latitude                         0\n",
       "timestamp                        0\n",
       "dtype: int64"
      ]
     },
     "execution_count": 98,
     "metadata": {},
     "output_type": "execute_result"
    }
   ],
   "source": [
    "landslide_data.isna().sum()"
   ]
  },
  {
   "cell_type": "code",
   "execution_count": null,
   "id": "4d755ceb-4d67-4f47-80a4-af7298ac3b39",
   "metadata": {},
   "outputs": [],
   "source": []
  }
 ],
 "metadata": {
  "kernelspec": {
   "display_name": "Python 3 (ipykernel)",
   "language": "python",
   "name": "python3"
  },
  "language_info": {
   "codemirror_mode": {
    "name": "ipython",
    "version": 3
   },
   "file_extension": ".py",
   "mimetype": "text/x-python",
   "name": "python",
   "nbconvert_exporter": "python",
   "pygments_lexer": "ipython3",
   "version": "3.11.9"
  }
 },
 "nbformat": 4,
 "nbformat_minor": 5
}
